{
 "cells": [
  {
   "cell_type": "code",
   "execution_count": 35,
   "id": "615259c8-b193-482c-987e-3f0ca4b2ddc0",
   "metadata": {},
   "outputs": [],
   "source": [
    "import pandas as pd\n",
    "df=pd.read_csv(R\"C:\\Users\\SUJAL\\OneDrive\\Desktop\\StudentPerformanceFactors.csv\")\n",
    "\n",
    "\n"
   ]
  },
  {
   "cell_type": "code",
   "execution_count": 12,
   "id": "31635f25-a53e-41d8-b33a-ec76839d8178",
   "metadata": {},
   "outputs": [
    {
     "name": "stdout",
     "output_type": "stream",
     "text": [
      "      Hours_Studied  Attendance Parental_Involvement Access_to_Resources  \\\n",
      "0                23          84                  Low                High   \n",
      "1                19          64                  Low              Medium   \n",
      "2                24          98               Medium              Medium   \n",
      "3                29          89                  Low              Medium   \n",
      "4                19          92               Medium              Medium   \n",
      "...             ...         ...                  ...                 ...   \n",
      "6602             25          69                 High              Medium   \n",
      "6603             23          76                 High              Medium   \n",
      "6604             20          90               Medium                 Low   \n",
      "6605             10          86                 High                High   \n",
      "6606             15          67               Medium                 Low   \n",
      "\n",
      "     Extracurricular_Activities  Sleep_Hours  Previous_Scores  \\\n",
      "0                            No            7               73   \n",
      "1                            No            8               59   \n",
      "2                           Yes            7               91   \n",
      "3                           Yes            8               98   \n",
      "4                           Yes            6               65   \n",
      "...                         ...          ...              ...   \n",
      "6602                         No            7               76   \n",
      "6603                         No            8               81   \n",
      "6604                        Yes            6               65   \n",
      "6605                        Yes            6               91   \n",
      "6606                        Yes            9               94   \n",
      "\n",
      "     Motivation_Level Internet_Access  Tutoring_Sessions Family_Income  \\\n",
      "0                 Low             Yes                  0           Low   \n",
      "1                 Low             Yes                  2        Medium   \n",
      "2              Medium             Yes                  2        Medium   \n",
      "3              Medium             Yes                  1        Medium   \n",
      "4              Medium             Yes                  3        Medium   \n",
      "...               ...             ...                ...           ...   \n",
      "6602           Medium             Yes                  1          High   \n",
      "6603           Medium             Yes                  3           Low   \n",
      "6604              Low             Yes                  3           Low   \n",
      "6605             High             Yes                  2           Low   \n",
      "6606           Medium             Yes                  0        Medium   \n",
      "\n",
      "     Teacher_Quality School_Type Peer_Influence  Physical_Activity  \\\n",
      "0             Medium      Public       Positive                  3   \n",
      "1             Medium      Public       Negative                  4   \n",
      "2             Medium      Public        Neutral                  4   \n",
      "3             Medium      Public       Negative                  4   \n",
      "4               High      Public        Neutral                  4   \n",
      "...              ...         ...            ...                ...   \n",
      "6602          Medium      Public       Positive                  2   \n",
      "6603            High      Public       Positive                  2   \n",
      "6604          Medium      Public       Negative                  2   \n",
      "6605          Medium     Private       Positive                  3   \n",
      "6606          Medium      Public       Positive                  4   \n",
      "\n",
      "     Learning_Disabilities Parental_Education_Level Distance_from_Home  \\\n",
      "0                       No              High School               Near   \n",
      "1                       No                  College           Moderate   \n",
      "2                       No             Postgraduate               Near   \n",
      "3                       No              High School           Moderate   \n",
      "4                       No                  College               Near   \n",
      "...                    ...                      ...                ...   \n",
      "6602                    No              High School               Near   \n",
      "6603                    No              High School               Near   \n",
      "6604                    No             Postgraduate               Near   \n",
      "6605                    No              High School                Far   \n",
      "6606                    No             Postgraduate               Near   \n",
      "\n",
      "      Gender  Exam_Score  \n",
      "0       Male          67  \n",
      "1     Female          61  \n",
      "2       Male          74  \n",
      "3       Male          71  \n",
      "4     Female          70  \n",
      "...      ...         ...  \n",
      "6602  Female          68  \n",
      "6603  Female          69  \n",
      "6604  Female          68  \n",
      "6605  Female          68  \n",
      "6606    Male          64  \n",
      "\n",
      "[6607 rows x 20 columns]\n"
     ]
    }
   ],
   "source": [
    "print(df)"
   ]
  },
  {
   "cell_type": "code",
   "execution_count": 15,
   "id": "e958a168-56bc-486a-93cf-b9a45c543a63",
   "metadata": {},
   "outputs": [
    {
     "name": "stdout",
     "output_type": "stream",
     "text": [
      "67.23565914938702\n"
     ]
    }
   ],
   "source": [
    "mean_value=df['Exam_Score'].mean()\n",
    "print(mean_value)"
   ]
  },
  {
   "cell_type": "code",
   "execution_count": 17,
   "id": "77704fea-9657-494b-92f4-113f32098cd3",
   "metadata": {},
   "outputs": [
    {
     "name": "stdout",
     "output_type": "stream",
     "text": [
      "67.0\n"
     ]
    }
   ],
   "source": [
    "median_value=df['Exam_Score'].median()\n",
    "print(median_value)"
   ]
  },
  {
   "cell_type": "code",
   "execution_count": 19,
   "id": "2820d700-a0e4-4d5d-ac06-2c18b68f3ee0",
   "metadata": {},
   "outputs": [
    {
     "name": "stdout",
     "output_type": "stream",
     "text": [
      "0    68\n",
      "Name: Exam_Score, dtype: int64\n"
     ]
    }
   ],
   "source": [
    "mode_value=df['Exam_Score'].mode()\n",
    "print(mode_value)"
   ]
  },
  {
   "cell_type": "code",
   "execution_count": 21,
   "id": "225a9a0a-f409-4ad0-a8db-ace73b188979",
   "metadata": {},
   "outputs": [
    {
     "name": "stdout",
     "output_type": "stream",
     "text": [
      "3.890455781261724\n"
     ]
    }
   ],
   "source": [
    "std_value=df['Exam_Score'].std()\n",
    "print(std_value)"
   ]
  },
  {
   "cell_type": "code",
   "execution_count": 25,
   "id": "f79b621c-c2e6-4479-ba13-9bb95e35018d",
   "metadata": {},
   "outputs": [
    {
     "name": "stdout",
     "output_type": "stream",
     "text": [
      "101\n"
     ]
    }
   ],
   "source": [
    "max_value=df['Exam_Score'].max()\n",
    "print(max_value)"
   ]
  },
  {
   "cell_type": "code",
   "execution_count": 27,
   "id": "3028d2f1-153d-4257-a3e8-01a4f06e9c25",
   "metadata": {},
   "outputs": [
    {
     "name": "stdout",
     "output_type": "stream",
     "text": [
      "55\n"
     ]
    }
   ],
   "source": [
    "min_value=df['Exam_Score'].min()\n",
    "print(min_value)"
   ]
  },
  {
   "cell_type": "code",
   "execution_count": 31,
   "id": "19cd3861-a41b-46bb-a7ee-ea117e0eb1c0",
   "metadata": {},
   "outputs": [
    {
     "data": {
      "image/png": "[encoded data removed]",
      "text/plain": [
       "<Figure size 640x480 with 1 Axes>"
      ]
     },
     "metadata": {},
     "output_type": "display_data"
    }
   ],
   "source": [
    "import pandas as pd\n",
    "import matplotlib.pyplot as plt\n",
    "plt.hist(df['Exam_Score'],bins=50,\n",
    "         edgecolor='black')\n",
    "plt.title('exam score histogram')\n",
    "plt.show()"
   ]
  },
  {
   "cell_type": "code",
   "execution_count": 37,
   "id": "4a3b6952-5082-41cc-aba0-ce8da62325cb",
   "metadata": {},
   "outputs": [
    {
     "data": {
      "image/png": "[encoded data removed]",
      "text/plain": [
       "<Figure size 640x480 with 1 Axes>"
      ]
     },
     "metadata": {},
     "output_type": "display_data"
    }
   ],
   "source": [
    "import pandas as pd\n",
    "import matplotlib.pyplot as plt\n",
    "plt.hist(df['Previous_Scores'],bins=50,\n",
    "         edgecolor='black')\n",
    "plt.title('previous exam score histogram')\n",
    "plt.show()"
   ]
  },
  {
   "cell_type": "code",
   "execution_count": null,
   "id": "41132fa0-d0b4-4391-899a-3aeddd2d2df8",
   "metadata": {},
   "outputs": [],
   "source": []
  }
 ],
 "metadata": {
  "kernelspec": {
   "display_name": "Python 3 (ipykernel)",
   "language": "python",
   "name": "python3"
  },
  "language_info": {
   "codemirror_mode": {
    "name": "ipython",
    "version": 3
   },
   "file_extension": ".py",
   "mimetype": "text/x-python",
   "name": "python",
   "nbconvert_exporter": "python",
   "pygments_lexer": "ipython3",
   "version": "3.12.4"
  }
 },
 "nbformat": 4,
 "nbformat_minor": 5
}
